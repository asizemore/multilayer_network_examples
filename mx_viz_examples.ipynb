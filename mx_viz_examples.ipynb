{
 "cells": [
  {
   "cell_type": "markdown",
   "metadata": {},
   "source": [
    "# Examples\n",
    "\n",
    "Below we show three examples of the mx_viz functions. Please see the `slide_figures.ipynb` and the OHBM 2020 multilayer network educational presentation for more details."
   ]
  },
  {
   "cell_type": "code",
   "execution_count": 1,
   "metadata": {},
   "outputs": [
    {
     "name": "stdout",
     "output_type": "stream",
     "text": [
      "finished defining functions\n",
      "Done importing packages :)\n"
     ]
    }
   ],
   "source": [
    "## Import packages\n",
    "\n",
    "import numpy as np\n",
    "import matplotlib.pyplot as plt\n",
    "import seaborn as sns\n",
    "import networkx as nx\n",
    "import multinetx as mx\n",
    "import scipy.io as sio\n",
    "import pandas as pd\n",
    "import os\n",
    "import sys\n",
    "import mx_viz\n",
    "\n",
    "print(\"Done importing packages :)\")"
   ]
  },
  {
   "cell_type": "markdown",
   "metadata": {},
   "source": [
    "## Create a multilayer network\n",
    "\n",
    "Using multinetx, we will create a small multilayer (mx) network for plotting later. Note that the visualization functions will work best with _small_ mx networks. For larger mx networks, consider alternative plotting strategies found in this [2019 paper](https://onlinelibrary.wiley.com/doi/full/10.1111/cgf.13610).\n",
    "\n",
    "Note below we will assume that all nodes exist in every layer and that nodes only connect to their counterparts in other layers."
   ]
  },
  {
   "cell_type": "code",
   "execution_count": null,
   "metadata": {},
   "outputs": [],
   "source": [
    "# Define number of nodes (number of nodes in largest layer).\n",
    "nNodes = 10\n",
    "\n",
    "# Define number of levels.\n",
    "nLayers = 3\n",
    "\n",
    "# Use multinetx to generate three graphs each on nNodes nodes.\n",
    "g1 = mx.generators.erdos_renyi_graph(nNodes,0.5,seed=216)\n",
    "g2 = mx.generators.erdos_renyi_graph(nNodes,0.5,seed=130)\n",
    "g3 = mx.generators.erdos_renyi_graph(nNodes,0.5,seed=81)\n",
    "\n",
    "# Define adjacency between layers. Here we only assign nodes to themselves in each layer.\n",
    "adj_block = mx.lil_matrix(np.zeros((nNodes*nLayers,nNodes*nLayers)))\n",
    "\n",
    "for i in np.arange(nLayers-1):\n",
    "    for l in np.arange(i+1,nLayers):\n",
    "        adj_block[i*nNodes:(i+1)*nNodes, (l)*nNodes:(l+1)*nNodes] = np.identity(nNodes)   \n",
    "\n",
    "adj_block += adj_block.T\n",
    "\n",
    "# Create multilayer graph with mx.\n",
    "mg = mx.MultilayerGraph(list_of_layers=[g1,g2,g3],\n",
    "                        inter_adjacency_matrix=adj_block)\n",
    "\n",
    "# Here we can set the edge weights to different values just so we can see which are inter- and intra-layer edges.\n",
    "mg.set_edges_weights(intra_layer_edges_weight=2,\n",
    "                     inter_layer_edges_weight=1)\n",
    "\n",
    "## Plot the supra-adjacency matrix to check that we actually made a multilayer network.\n",
    "fig = plt.figure(figsize=(6,5))\n",
    "sns.heatmap(mx.adjacency_matrix(mg,weight='weight').todense())\n",
    "plt.title('supra adjacency matrix');\n"
   ]
  },
  {
   "cell_type": "markdown",
   "metadata": {},
   "source": [
    "### Write to json and create visualization.\n",
    "\n",
    "The first mx_viz function writes the graph to a json file, while the second reads the file and creates an html file with the visualization. \n",
    "\n",
    "Below we will create two html files - one using the `theme=\"light\"` flag and the other with `theme=\"dark\"`."
   ]
  },
  {
   "cell_type": "code",
   "execution_count": null,
   "metadata": {},
   "outputs": [],
   "source": [
    "# We'll use networkx positioning to get nice layouts. However pos is changed (for example by \n",
    "# using a different nx.layout function), it should remain a dictionary mapping nodes to coordinate \n",
    "# arrays with at least an x and y position.\n",
    "pos = nx.layout.fruchterman_reingold_layout(g1, dim=3, k=2)\n",
    "\n",
    "filename_json = \"data/example1.json\"\n",
    "G2 = mx_viz.write_mx_to_json(filename_json,mg, nNodes, pos, nLayers)\n",
    "\n",
    "filename_html_light = \"visualization_output_example_light.html\"\n",
    "mx_viz.visualize(G2,theme=\"light\",path_html=filename_html_light)\n",
    "\n",
    "filename_html_dark = \"visualization_output_example_dark.html\"\n",
    "mx_viz.visualize(G2,theme=\"light\",path_html=filename_html_dark);\n"
   ]
  },
  {
   "cell_type": "markdown",
   "metadata": {},
   "source": [
    "## Create a temporal network\n",
    "\n",
    "Temporal networks are special types of multilayer networks in which the layers correspond to timepoints. Time has a natural ordering, so we create a slightly different visualization that respects the ordered layers.\n",
    "\n",
    "Again, we assume that all nodes exist in every layer and that nodes connect only to their counterparts in every layer.\n"
   ]
  },
  {
   "cell_type": "code",
   "execution_count": 2,
   "metadata": {},
   "outputs": [
    {
     "data": {
      "image/png": "[encoded data removed]",
      "text/plain": [
       "<Figure size 432x360 with 2 Axes>"
      ]
     },
     "metadata": {
      "needs_background": "light"
     },
     "output_type": "display_data"
    }
   ],
   "source": [
    "# Define number of nodes (number of nodes in largest layer)\n",
    "nNodes = 10\n",
    "\n",
    "# Define number of timepoints (levels)\n",
    "nLayers = 14\n",
    "\n",
    "# Use multinetx to generate fourteen graphs each on nNodes nodes\n",
    "graph_layers = [mx.generators.erdos_renyi_graph(nNodes,((i+3)/(nLayers+5)),seed=np.random.randint(1,300)) for i in np.arange(nLayers)]\n",
    "\n",
    "# Define adjacency between layers. Here, again, we only assign nodes to themselves in each layer.\n",
    "adj_block = mx.lil_matrix(np.zeros((nNodes*nLayers,nNodes*nLayers)))\n",
    "\n",
    "for i in np.arange(nLayers-1):\n",
    "    for l in np.arange(i+1,nLayers):\n",
    "        adj_block[i*nNodes:(i+1)*nNodes, (l)*nNodes:(l+1)*nNodes] = np.identity(nNodes)   \n",
    "\n",
    "adj_block += adj_block.T\n",
    "\n",
    "# Create multilayer graph\n",
    "mg = mx.MultilayerGraph(list_of_layers=graph_layers,\n",
    "                        inter_adjacency_matrix=adj_block)\n",
    "\n",
    "# Set edge weights\n",
    "mg.set_edges_weights(intra_layer_edges_weight=2,\n",
    "                     inter_layer_edges_weight=1)\n",
    "\n",
    "## Plot the supra-adjacency matrix\n",
    "fig = plt.figure(figsize=(6,5))\n",
    "sns.heatmap(mx.adjacency_matrix(mg,weight='weight').todense())\n",
    "plt.title('supra adjacency matrix');"
   ]
  },
  {
   "cell_type": "code",
   "execution_count": 3,
   "metadata": {},
   "outputs": [
    {
     "name": "stdout",
     "output_type": "stream",
     "text": [
      "done writing mx to data/example2.json\n",
      "Wrote visualization to: visualization_output_example_timeseries.html\n"
     ]
    }
   ],
   "source": [
    "# As before, generate positions for nodes in the first layer.\n",
    "pos = nx.layout.fruchterman_reingold_layout(graph_layers[0], dim=3)\n",
    "\n",
    "filename_json = \"data/example2.json\"\n",
    "G2 = mx_viz.write_mx_to_json(filename_json,mg, nNodes, pos, nLayers)\n",
    "\n",
    "filename_html = \"visualization_output_example_timeseries.html\"\n",
    "mx_viz.visualize_timeseries(G2, path_html=filename_html);"
   ]
  },
  {
   "cell_type": "markdown",
   "metadata": {},
   "source": [
    "Open the html files in your browser and enjoy!"
   ]
  }
 ],
 "metadata": {
  "kernelspec": {
   "display_name": "Python 3",
   "language": "python",
   "name": "python3"
  },
  "language_info": {
   "codemirror_mode": {
    "name": "ipython",
    "version": 3
   },
   "file_extension": ".py",
   "mimetype": "text/x-python",
   "name": "python",
   "nbconvert_exporter": "python",
   "pygments_lexer": "ipython3",
   "version": "3.7.6"
  }
 },
 "nbformat": 4,
 "nbformat_minor": 2
}
