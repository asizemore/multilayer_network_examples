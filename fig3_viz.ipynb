{
 "cells": [
  {
   "cell_type": "markdown",
   "metadata": {},
   "source": [
    "# Examples\n",
    "\n",
    "Below we show three examples of the mx_viz functions. Please see the `slide_figures.ipynb` and the OHBM 2020 multilayer network educational presentation for more details."
   ]
  },
  {
   "cell_type": "code",
   "execution_count": 1,
   "metadata": {},
   "outputs": [
    {
     "name": "stdout",
     "output_type": "stream",
     "text": [
      "finished defining functions\n",
      "Done importing packages :)\n"
     ]
    }
   ],
   "source": [
    "## Import packages\n",
    "\n",
    "import numpy as np\n",
    "import matplotlib.pyplot as plt\n",
    "import seaborn as sns\n",
    "import networkx as nx\n",
    "import multinetx as mx\n",
    "import scipy.io as sio\n",
    "import pandas as pd\n",
    "import os\n",
    "import sys\n",
    "import mx_viz\n",
    "import csv\n",
    "import scipy as sp\n",
    "\n",
    "print(\"Done importing packages :)\")"
   ]
  },
  {
   "cell_type": "markdown",
   "metadata": {},
   "source": [
    "## Create a multilayer network\n",
    "\n",
    "Using multinetx, we will create a small multilayer (mx) network for plotting later. Note that the visualization functions will work best with _small_ mx networks. For larger mx networks, consider alternative plotting strategies found in this [2019 paper](https://onlinelibrary.wiley.com/doi/full/10.1111/cgf.13610).\n",
    "\n",
    "Note below we will assume that all nodes exist in every layer and that nodes only connect to their counterparts in other layers."
   ]
  },
  {
   "cell_type": "code",
   "execution_count": 2,
   "metadata": {},
   "outputs": [
    {
     "data": {
      "text/plain": [
       "{'weight': 0.000231043917752236}"
      ]
     },
     "execution_count": 2,
     "metadata": {},
     "output_type": "execute_result"
    },
    {
     "data": {
      "image/png": "[encoded data removed]",
      "text/plain": [
       "<Figure size 432x360 with 2 Axes>"
      ]
     },
     "metadata": {
      "needs_background": "light"
     },
     "output_type": "display_data"
    }
   ],
   "source": [
    "# Define number of nodes (number of nodes in largest layer).\n",
    "nNodes = 34\n",
    "\n",
    "# Define number of levels.\n",
    "nLayers = 3\n",
    "\n",
    "# open and write g1 as one over distance dorado\n",
    "with open('data/oodahat_dorado.csv', newline='') as f:\n",
    "    reader = csv.reader(f)\n",
    "    distances = list(reader)\n",
    "    \n",
    "stars = np.arange(1,35,1)\n",
    "g1 = nx.DiGraph()\n",
    "g1.add_nodes_from(stars)\n",
    "\n",
    "for r in stars:\n",
    "    for c in stars:\n",
    "        \n",
    "        # Add edge if r != c\n",
    "        if r!= c:\n",
    "            g1.add_edge(r,c,weight=float(distances[r-1][c-1]))\n",
    "        \n",
    "\n",
    "# open and write g2 as saccade dorado        \n",
    "with open('data/saccahat_dorado.csv', newline='') as f:\n",
    "    reader = csv.reader(f)\n",
    "    distances = list(reader)\n",
    "    \n",
    "stars = np.arange(1,35,1)\n",
    "g2 = nx.DiGraph()\n",
    "g2.add_nodes_from(stars)\n",
    "\n",
    "for r in stars:\n",
    "    for c in stars:\n",
    "        if r != c:\n",
    "            g2.add_edge(r,c,weight=float(distances[r-1][c-1]))\n",
    "\n",
    "\n",
    "# open and write g3 as mags dorado\n",
    "with open('data/magsahat_dorado.csv', newline='') as f:\n",
    "    reader = csv.reader(f)\n",
    "    distances = list(reader)\n",
    "    \n",
    "stars = np.arange(1,35,1)\n",
    "g3 = nx.DiGraph()\n",
    "g3.add_nodes_from(stars)\n",
    "\n",
    "for r in stars:\n",
    "    for c in stars:\n",
    "        if r !=c:\n",
    "            g3.add_edge(r,c,weight=float(distances[r-1][c-1]))\n",
    "\n",
    "        \n",
    "            \n",
    "# Use multinetx to generate three graphs each on nNodes nodes.\n",
    "# g1 = mx.generators.erdos_renyi_graph(nNodes,0.5,seed=216)\n",
    "# g2 = mx.generators.erdos_renyi_graph(nNodes,0.5,seed=130)\n",
    "# g3 = mx.generators.erdos_renyi_graph(nNodes,0.5,seed=81)\n",
    "\n",
    "# Define adjacency between layers. Here we only assign nodes to themselves in each layer.\n",
    "adj_block = mx.lil_matrix(np.zeros((nNodes*nLayers,nNodes*nLayers)))\n",
    "\n",
    "for i in np.arange(nLayers-1):\n",
    "    for l in np.arange(i+1,nLayers):\n",
    "        adj_block[i*nNodes:(i+1)*nNodes, (l)*nNodes:(l+1)*nNodes] = np.identity(nNodes)   \n",
    "\n",
    "adj_block += adj_block.T\n",
    "\n",
    "# Create multilayer graph with mx.\n",
    "mg = mx.MultilayerGraph(list_of_layers=[g1,g2,g3],\n",
    "                        inter_adjacency_matrix=adj_block)\n",
    "\n",
    "# Here we can set the edge weights to different values just so we can see which are inter- and intra-layer edges.\n",
    "mg.set_edges_weights(intra_layer_edges_weight=2,\n",
    "                    inter_layer_edges_weight=1)\n",
    "\n",
    "## Plot the supra-adjacency matrix to check that we actually made a multilayer network.\n",
    "fig = plt.figure(figsize=(6,5))\n",
    "sns.heatmap(mx.adjacency_matrix(mg,weight='weight').todense())\n",
    "plt.title('supra adjacency matrix');\n",
    "\n",
    "g1.get_edge_data(1,4)"
   ]
  },
  {
   "cell_type": "code",
   "execution_count": 16,
   "metadata": {},
   "outputs": [
    {
     "name": "stdout",
     "output_type": "stream",
     "text": [
      "0.0474290975274551\n",
      "0.000317446680949248\n"
     ]
    }
   ],
   "source": [
    "#### DO NOT USE. ########\n",
    "\n",
    "weight_array = []\n",
    "for edge in g2.edges() :\n",
    "#     print(g1.get_edge_data(edge[0],edge[1])[\"weight\"])\n",
    "    edge_weight = g2.get_edge_data(edge[0],edge[1])[\"weight\"]\n",
    "    weight_array.append(edge_weight)\n",
    "    \n",
    "print(max(weight_array))\n",
    "print(min(weight_array))\n"
   ]
  },
  {
   "cell_type": "markdown",
   "metadata": {},
   "source": [
    "### Write to json and create visualization.\n",
    "\n",
    "The first mx_viz function writes the graph to a json file, while the second reads the file and creates an html file with the visualization. \n",
    "\n",
    "Below we will create two html files - one using the `theme=\"light\"` flag and the other with `theme=\"dark\"`."
   ]
  },
  {
   "cell_type": "code",
   "execution_count": null,
   "metadata": {},
   "outputs": [],
   "source": [
    "#### DO NOT USE. ########\n",
    "\n",
    "\n",
    "# We'll use networkx positioning to get nice layouts. However pos is changed (for example by \n",
    "# using a different nx.layout function), it should remain a dictionary mapping nodes to coordinate \n",
    "# arrays with at least an x and y position.\n",
    "# making our own position dictionary\n",
    "with open('data/x.csv', newline='') as f:\n",
    "    reader = csv.reader(f, quoting=csv.QUOTE_NONNUMERIC)\n",
    "    x_coor = list(reader)\n",
    "    \n",
    "with open('data/y.csv', newline='') as f:\n",
    "    reader = csv.reader(f, quoting=csv.QUOTE_NONNUMERIC)\n",
    "    y_coor = list(reader)\n",
    "    \n",
    "with open('data/z.csv', newline='') as f:\n",
    "    reader = csv.reader(f, quoting=csv.QUOTE_NONNUMERIC)\n",
    "    z_coor = list(reader)    \n",
    "\n",
    "keys = range(1,35)\n",
    "vals = []\n",
    "scale_factor = 4\n",
    "for i in range(len(x_coor)):\n",
    "    vals.append([scale_factor*x_coor[i][0], scale_factor*y_coor[i][0], z_coor[i][0]])\n",
    "\n",
    "    \n",
    "pos = {}\n",
    "for i in keys:\n",
    "     pos[keys[i-1]] = vals[i-1]\n",
    "\n",
    "#pos = nx.layout.fruchterman_reingold_layout(g1, dim=3, k=2)\n",
    "\n",
    "filename_json = \"data/example1.json\"\n",
    "G2 = mx_viz.write_mx_to_json(filename_json,mg, nNodes, pos, nLayers)\n",
    "\n",
    "filename_html_light = \"visualization_output_fig3_light.html\"\n",
    "mx_viz.visualize(G2,theme=\"light\",path_html=filename_html_light)\n",
    "\n",
    "filename_html_dark = \"visualization_output_fig3_dark.html\"\n",
    "mx_viz.visualize(G2,theme=\"dark\",path_html=filename_html_dark);\n"
   ]
  },
  {
   "cell_type": "code",
   "execution_count": null,
   "metadata": {},
   "outputs": [],
   "source": [
    " # From the sparse adj, make a networkx graph and add node attributes\n",
    "G1 = nx.from_numpy_array(mx.adjacency_matrix(mg,weight='weight').todense())\n",
    "G1.get_edge_data(1,2)\n"
   ]
  },
  {
   "cell_type": "code",
   "execution_count": null,
   "metadata": {},
   "outputs": [],
   "source": [
    "g1.number_of_edges()\n",
    "sp.special.binom(nNodes,2) *2\n",
    "# 1156 - 1122= 34\n",
    "g1.degree(weight=\"weight\")[1]"
   ]
  },
  {
   "cell_type": "code",
   "execution_count": null,
   "metadata": {},
   "outputs": [],
   "source": []
  },
  {
   "cell_type": "code",
   "execution_count": 3,
   "metadata": {},
   "outputs": [
    {
     "data": {
      "image/png": "[encoded data removed]",
      "text/plain": [
       "<Figure size 432x360 with 2 Axes>"
      ]
     },
     "metadata": {
      "needs_background": "light"
     },
     "output_type": "display_data"
    }
   ],
   "source": [
    "union1 = nx.disjoint_union(g1,g2)\n",
    "union1.number_of_nodes()\n",
    "graph_union = nx.disjoint_union(union1, g3)\n",
    "# graph_union.number_of_nodes()\n",
    "# graph_union.get_edge_data(0,3)\n",
    "\n",
    "# Need to iterate through connected node pairs and assign inter-layer edge weights\n",
    "for node1 in np.arange(nNodes) :\n",
    "    \n",
    "    # Find it's pair in the second layer\n",
    "    node2 = node1 + nNodes\n",
    "    \n",
    "    # Calculate edge weight as absolute value of difference in node strengths\n",
    "    strength_diff = abs(graph_union.degree(weight=\"weight\")[node1] - graph_union.degree(weight=\"weight\")[node2])\n",
    "    if strength_diff == 0:\n",
    "        print(graph_union.degree(weight=\"weight\")[node1])\n",
    "        print(graph_union.degree(weight=\"weight\")[node2])\n",
    "    \n",
    "    \n",
    "    # Assign edge weights\n",
    "    graph_union.add_edge(node1,node2,weight = 10000*strength_diff)\n",
    "    graph_union.add_edge(node2,node1,weight = strength_diff)\n",
    "    \n",
    "\n",
    "# Repeat for connecting layers 2,3\n",
    "for node1 in np.arange(nNodes,2*nNodes) :\n",
    "    \n",
    "    # Find it's pair in the second layer\n",
    "    node2 = node1 + nNodes\n",
    "    \n",
    "    # Calculate edge weight as absolute value of difference in node strengths\n",
    "    strength_diff = abs(graph_union.degree(weight=\"weight\")[node1] - graph_union.degree(weight=\"weight\")[node2])\n",
    "    \n",
    "    # Assign edge weght\n",
    "    graph_union.add_edge(node1,node2,weight = strength_diff)\n",
    "    graph_union.add_edge(node2,node1,weight = strength_diff)\n",
    "    \n",
    "# Plot adjacency matrix\n",
    "fig = plt.figure(figsize=(6,5))\n",
    "sns.heatmap(nx.adjacency_matrix(g3,weight='weight').todense())\n",
    "plt.title('supra adjacency matrix');"
   ]
  },
  {
   "cell_type": "code",
   "execution_count": 4,
   "metadata": {},
   "outputs": [],
   "source": [
    "# Now update the original file to take a supraadjacency matrix\n",
    "from networkx.readwrite import json_graph\n",
    "import json\n",
    "\n",
    "def write_supraadj_to_json(filename, sadj, nNodes, pos, nLayers, nodes_to_remove = []):\n",
    "    \n",
    "    # filename the complete name of the output file (data/slide_x.json)\n",
    "    # mx the multilayer network as a multinetx object\n",
    "    # nNodes the number of nodes in the first layer\n",
    "    # pos a dictionary of node coordinates\n",
    "    # nLayers the number of layers in the second aspect.\n",
    "    # nodes_to_remove is a list of nodes that should not exist in each layer. Default = []\n",
    "    \n",
    "\n",
    "    \n",
    "    \n",
    "    # From the sparse adj, make a networkx graph and add node attributes\n",
    "#     G1 = nx.from_numpy_array(mx.adjacency_matrix(mg,weight='weight').todense())\n",
    "\n",
    "    # Remove nodes from sadj\n",
    "    sadj.remove_nodes_from(nodes_to_remove)\n",
    "\n",
    "    # Recreate the graph G to make the rest work nicely.\n",
    "\n",
    "    G = nx.from_numpy_array(nx.adjacency_matrix(sadj).todense(), create_using = nx.DiGraph)\n",
    "\n",
    "\n",
    "    # Create dictionaries pretending like all nodes exist\n",
    "    scalefact = 20\n",
    "    L2_classes = np.arange(nLayers)\n",
    "    L2_array_original = np.array([])\n",
    "    z_shift = 2\n",
    "    z_array_original = np.array([])\n",
    "    x_orig = np.array([])\n",
    "    y_orig = np.array([])\n",
    "    L1_orig = np.array([])\n",
    "    for level in L2_classes:\n",
    "        L2_array_original = np.concatenate((L2_array_original, np.array([float(level) for i in np.arange(nNodes)])))\n",
    "        z_array_original = np.concatenate((z_array_original, np.array([float(level*z_shift) for i in np.arange(nNodes)])))\n",
    "        x_orig = np.concatenate((x_orig, [pos[key][0]+scalefact for key in pos]))\n",
    "        y_orig = np.concatenate((y_orig, [pos[key][1]+scalefact for key in pos]))\n",
    "        L1_orig = np.concatenate((L1_orig, [i for i in np.arange(nNodes)]))\n",
    "\n",
    "    # Need to delete nodes from our attribute dictionaries, too\n",
    "    L2_array = np.delete(L2_array_original, nodes_to_remove, 0)\n",
    "    z_array = np.delete(z_array_original, nodes_to_remove, 0)\n",
    "    x_array = np.delete(x_orig, nodes_to_remove, 0)\n",
    "    y_array = np.delete(y_orig, nodes_to_remove, 0)\n",
    "    L1_array = np.delete(L1_orig, nodes_to_remove, 0)\n",
    "\n",
    "    ## Each node will get attributes L1=node id, L2=slice number, x position, y position, and name/id\n",
    "\n",
    "    id_dict = {i:(\"id\"+str(i)) for i in np.arange(nNodes*nLayers)}\n",
    "    x_dict = {}\n",
    "    y_dict = {}\n",
    "    L2_dict = {i:l2 for i,l2 in enumerate(L2_array)}\n",
    "    z_dict = {i:z_val for i,z_val in enumerate(z_array)}\n",
    "    x_dict = {i:x_val for i,x_val in enumerate(x_array)}\n",
    "    y_dict = {i:y_val for i,y_val in enumerate(y_array)}\n",
    "    L1_dict = {i:L1_val for i,L1_val in enumerate(L1_array)}\n",
    "\n",
    "\n",
    "    nx.set_node_attributes(G, id_dict, name = \"name\")\n",
    "    nx.set_node_attributes(G, x_dict, name = \"x\")\n",
    "    nx.set_node_attributes(G, y_dict, name = \"y\")\n",
    "    nx.set_node_attributes(G, z_dict, name = \"z\")\n",
    "    nx.set_node_attributes(G, L1_dict, name= \"L1\")\n",
    "    nx.set_node_attributes(G, L2_dict, name= \"L2\")\n",
    "\n",
    "\n",
    "    G_json = json_graph.node_link_data(G)\n",
    "    \n",
    "    # Write for visualization function\n",
    "    G_json_viz = json.dumps(G_json, indent = 4)  \n",
    "    \n",
    "    # To save as a .json file\n",
    "    with open(filename, 'w') as fp:\n",
    "        json.dump(G_json, fp)\n",
    "\n",
    "    print(f\"done writing mx to {filename}\")\n",
    "    \n",
    "    return G_json_viz"
   ]
  },
  {
   "cell_type": "code",
   "execution_count": 18,
   "metadata": {},
   "outputs": [
    {
     "name": "stdout",
     "output_type": "stream",
     "text": [
      "done writing mx to data/example2.json\n",
      "Wrote visualization to: visualization_output_fig3_light.html\n",
      "Wrote visualization to: visualization_output_fig3_dark.html\n"
     ]
    }
   ],
   "source": [
    "# We'll use networkx positioning to get nice layouts. However pos is changed (for example by \n",
    "# using a different nx.layout function), it should remain a dictionary mapping nodes to coordinate \n",
    "# arrays with at least an x and y position.\n",
    "# making our own position dictionary\n",
    "with open('data/x.csv', newline='') as f:\n",
    "    reader = csv.reader(f, quoting=csv.QUOTE_NONNUMERIC)\n",
    "    x_coor = list(reader)\n",
    "    \n",
    "with open('data/y.csv', newline='') as f:\n",
    "    reader = csv.reader(f, quoting=csv.QUOTE_NONNUMERIC)\n",
    "    y_coor = list(reader)\n",
    "    \n",
    "with open('data/z.csv', newline='') as f:\n",
    "    reader = csv.reader(f, quoting=csv.QUOTE_NONNUMERIC)\n",
    "    z_coor = list(reader)    \n",
    "\n",
    "keys = range(1,35)\n",
    "vals = []\n",
    "scale_factor = 4\n",
    "for i in range(len(x_coor)):\n",
    "    vals.append([scale_factor*x_coor[i][0], scale_factor*y_coor[i][0], z_coor[i][0]])\n",
    "\n",
    "    \n",
    "pos = {}\n",
    "for i in keys:\n",
    "     pos[keys[i-1]] = vals[i-1]\n",
    "\n",
    "#pos = nx.layout.fruchterman_reingold_layout(g1, dim=3, k=2)\n",
    "\n",
    "filename_json = \"data/example2.json\"\n",
    "G2 = write_supraadj_to_json(filename_json,graph_union, nNodes, pos, nLayers)\n",
    "\n",
    "filename_html_light = \"visualization_output_fig3_light.html\"\n",
    "mx_viz.visualize(G2,theme=\"light\",path_html=filename_html_light)\n",
    "\n",
    "filename_html_dark = \"visualization_output_fig3_dark.html\"\n",
    "mx_viz.visualize(G2,theme=\"dark\",path_html=filename_html_dark);"
   ]
  },
  {
   "cell_type": "code",
   "execution_count": null,
   "metadata": {},
   "outputs": [],
   "source": [
    "graph_union"
   ]
  },
  {
   "cell_type": "code",
   "execution_count": null,
   "metadata": {},
   "outputs": [],
   "source": [
    "G_test = nx.from_numpy_array(nx.adjacency_matrix(graph_union).todense(), create_using = nx.DiGraph)\n",
    "G_test"
   ]
  },
  {
   "cell_type": "code",
   "execution_count": null,
   "metadata": {},
   "outputs": [],
   "source": []
  }
 ],
 "metadata": {
  "kernelspec": {
   "display_name": "Python 3",
   "language": "python",
   "name": "python3"
  },
  "language_info": {
   "codemirror_mode": {
    "name": "ipython",
    "version": 3
   },
   "file_extension": ".py",
   "mimetype": "text/x-python",
   "name": "python",
   "nbconvert_exporter": "python",
   "pygments_lexer": "ipython3",
   "version": "3.7.6"
  }
 },
 "nbformat": 4,
 "nbformat_minor": 4
}
