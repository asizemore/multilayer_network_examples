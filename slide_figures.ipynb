{
 "cells": [
  {
   "cell_type": "code",
   "execution_count": 1,
   "metadata": {},
   "outputs": [
    {
     "name": "stdout",
     "output_type": "stream",
     "text": [
      "Done importing packages :)\n"
     ]
    }
   ],
   "source": [
    "## Import packages\n",
    "\n",
    "import numpy as np\n",
    "import matplotlib.pyplot as plt\n",
    "import seaborn as sns\n",
    "import networkx as nx\n",
    "import multinetx as mx\n",
    "import scipy.io as sio\n",
    "from networkx.readwrite import json_graph\n",
    "import json\n",
    "import pandas as pd\n",
    "\n",
    "print(\"Done importing packages :)\")"
   ]
  },
  {
   "cell_type": "markdown",
   "metadata": {},
   "source": [
    "## Multilayer network ex 1: Two aspects, two layers\n",
    "\n",
    "Aspect L1: nodes as usual\n",
    "Aspect L2: \"A\" or \"B\""
   ]
  },
  {
   "cell_type": "code",
   "execution_count": 10,
   "metadata": {},
   "outputs": [],
   "source": [
    "# Set filename\n",
    "filename = \"data/mx_slide9.json\"\n",
    "\n",
    "# Define number of nodes (number of nodes in largest layer)\n",
    "nNodes = 10\n",
    "\n",
    "# Define number of levels\n",
    "nLayers = 2\n",
    "\n",
    "# Use multinetx to generate two graphs each on nNodes nodes\n",
    "g1 = mx.generators.erdos_renyi_graph(nNodes,0.5,seed=218)\n",
    "g2 = mx.generators.erdos_renyi_graph(nNodes,0.5,seed=132)\n",
    "\n",
    "# Define adjacency between layers. Here we only assign nodes to themselves in each layer.\n",
    "adj_block = mx.lil_matrix(np.zeros((nNodes*3,nNodes*3)))\n",
    "adj_block[0:  nNodes,  nNodes:2*nNodes] = np.identity(nNodes)    # L_12\n",
    "adj_block += adj_block.T\n",
    "\n",
    "# Create multilayer graph with mx\n",
    "mg = mx.MultilayerGraph(list_of_layers=[g1,g2],\n",
    "                        inter_adjacency_matrix=adj_block)\n",
    "\n",
    "# Here we can set the edge weights to different values just so we can see which are inter- and intra-layer edges\n",
    "mg.set_edges_weights(intra_layer_edges_weight=2,\n",
    "                     inter_layer_edges_weight=1)\n"
   ]
  },
  {
   "cell_type": "code",
   "execution_count": 11,
   "metadata": {},
   "outputs": [
    {
     "data": {
      "image/png": "[encoded data removed]",
      "text/plain": [
       "<Figure size 432x360 with 2 Axes>"
      ]
     },
     "metadata": {
      "needs_background": "light"
     },
     "output_type": "display_data"
    }
   ],
   "source": [
    "## Plot the supra-adjacency matrix\n",
    "fig = plt.figure(figsize=(6,5))\n",
    "sns.heatmap(mx.adjacency_matrix(mg,weight='weight').todense())\n",
    "plt.title('supra adjacency matrix');\n"
   ]
  },
  {
   "cell_type": "code",
   "execution_count": 12,
   "metadata": {},
   "outputs": [
    {
     "name": "stdout",
     "output_type": "stream",
     "text": [
      "done writing file\n"
     ]
    }
   ],
   "source": [
    "# Write to json file\n",
    "\n",
    "# We'll use networkx positioning to get nice layouts. We create a layout using a layer that contains all nNodes nodes.\n",
    "# In this case both layers are the same size so it doesn't matter :)\n",
    "# Feel free to change the layout used here. It will be reflected in the d3 plot.\n",
    "pos = nx.layout.fruchterman_reingold_layout(g1, dim=3)\n",
    "\n",
    "# We'll take advantage of networkx's nice json writing function later, so transform the mx graph into a large nx graph.\n",
    "G = nx.from_numpy_array(mx.adjacency_matrix(mg,weight='weight').todense())\n",
    "\n",
    "# scalefact helps us position the graph appropriately. I like 20 in general.\n",
    "scalefact = 20\n",
    "\n",
    "# z_shift sets an intitial measure for how far apart the levels will sit. This will later be stretched\n",
    "# by the d3 code but worth setting here to separate layers more.\n",
    "z_shift = 2\n",
    "\n",
    "## Setting node attributes\n",
    "# Each node will get attributes L1=node id, L2=slice number, x position, y position, z positions, and name/id\n",
    "L2_classes = np.arange(nLayers)\n",
    "id_dict = {i:(\"id\"+str(i)) for i in np.arange(nNodes*nLayers)}\n",
    "x_dict = {}\n",
    "y_dict = {}\n",
    "L2_dict = {}\n",
    "z_dict = {}\n",
    "L1_dict = {}\n",
    "for level in L2_classes:\n",
    "    pos_dict = pos\n",
    "    x_dict.update({(key+(level*nNodes)):float(pos_dict[key][0]+scalefact) for key in pos_dict})\n",
    "    y_dict.update({(key+(level*nNodes)):float(pos_dict[key][1]+scalefact) for key in pos_dict})\n",
    "    L2_dict.update({i:float(level) for i in (np.arange(nNodes)+ (level*nNodes))})\n",
    "    z_dict.update({i:float(level*z_shift) for i in (np.arange(nNodes) + (level*nNodes))})\n",
    "    L1_dict.update({(i+level*nNodes):int(i) for i in np.arange(nNodes)})\n",
    "\n",
    "\n",
    "# Now assign the attributes to the nodes in G\n",
    "nx.set_node_attributes(G, id_dict, name = \"name\")\n",
    "nx.set_node_attributes(G, x_dict, name = \"x\")\n",
    "nx.set_node_attributes(G, y_dict, name = \"y\")\n",
    "nx.set_node_attributes(G, z_dict, name = \"z\")\n",
    "nx.set_node_attributes(G, L1_dict, name= \"L1\")\n",
    "nx.set_node_attributes(G, L2_dict, name= \"L2\")\n",
    "\n",
    "\n",
    "# Finally write to json file\n",
    "G_json = json_graph.node_link_data(G)\n",
    "with open(filename, 'w') as fp:\n",
    "    json.dump(G_json, fp)\n",
    "\n",
    "print(\"done writing file\")"
   ]
  },
  {
   "cell_type": "markdown",
   "metadata": {},
   "source": [
    "## Ex 2: 2 aspects, 5 layers\n"
   ]
  },
  {
   "cell_type": "code",
   "execution_count": 16,
   "metadata": {},
   "outputs": [
    {
     "data": {
      "image/png": "[encoded data removed]",
      "text/plain": [
       "<Figure size 432x360 with 2 Axes>"
      ]
     },
     "metadata": {
      "needs_background": "light"
     },
     "output_type": "display_data"
    }
   ],
   "source": [
    "# Set filename\n",
    "filename = \"data/mx_slide10.json\"\n",
    "\n",
    "# Define number of nodes (number of nodes in largest layer)\n",
    "nNodes = 10\n",
    "\n",
    "# Define number of levels\n",
    "nLayers = 5\n",
    "\n",
    "# Use multinetx to generate two graphs each on nNodes nodes\n",
    "g1 = mx.generators.erdos_renyi_graph(nNodes,0.5,seed=218)\n",
    "g2 = mx.generators.erdos_renyi_graph(nNodes,0.5,seed=132)\n",
    "g3 = mx.generators.erdos_renyi_graph(nNodes,0.5,seed=192)\n",
    "g4 = mx.generators.erdos_renyi_graph(nNodes,0.5,seed=19)\n",
    "g5 = mx.generators.erdos_renyi_graph(nNodes,0.5,seed=102)\n",
    "\n",
    "# Define adjacency between layers. Here we only assign nodes to themselves in each layer.\n",
    "adj_block = mx.lil_matrix(np.zeros((nNodes*nLayers,nNodes*nLayers)))\n",
    "\n",
    "for i in np.arange(nLayers-1):\n",
    "    for l in np.arange(i+1,nLayers):\n",
    "        adj_block[i*nNodes:(i+1)*nNodes, (l)*nNodes:(l+1)*nNodes] = np.identity(nNodes)   \n",
    "\n",
    "adj_block += adj_block.T\n",
    "\n",
    "# Create multilayer graph\n",
    "mg = mx.MultilayerGraph(list_of_layers=[g1,g2,g3,g4,g5],\n",
    "                        inter_adjacency_matrix=adj_block)\n",
    "\n",
    "# Set edge weights\n",
    "mg.set_edges_weights(intra_layer_edges_weight=2,\n",
    "                     inter_layer_edges_weight=1)\n",
    "\n",
    "## Plot the supra-adjacency matrix\n",
    "fig = plt.figure(figsize=(6,5))\n",
    "sns.heatmap(mx.adjacency_matrix(mg,weight='weight').todense())\n",
    "plt.title('supra adjacency matrix');\n",
    "\n"
   ]
  },
  {
   "cell_type": "code",
   "execution_count": 17,
   "metadata": {},
   "outputs": [
    {
     "name": "stdout",
     "output_type": "stream",
     "text": [
      "done writing file\n"
     ]
    }
   ],
   "source": [
    "# Write to json file\n",
    "\n",
    "# We'll use networkx positioning to get nice layouts. We create a layout using a layer that contains all nNodes nodes.\n",
    "# In this case both layers are the same size so it doesn't matter :)\n",
    "# Feel free to change the layout used here. It will be reflected in the d3 plot.\n",
    "pos = nx.layout.fruchterman_reingold_layout(g1, dim=3)\n",
    "\n",
    "# We'll take advantage of networkx's nice json writing function later, so transform the mx graph into a large nx graph.\n",
    "G = nx.from_numpy_array(mx.adjacency_matrix(mg,weight='weight').todense())\n",
    "\n",
    "# scalefact helps us position the graph appropriately. I like 20 in general.\n",
    "scalefact = 20\n",
    "\n",
    "# z_shift sets an intitial measure for how far apart the levels will sit. This will later be stretched\n",
    "# by the d3 code but worth setting here to separate layers more.\n",
    "z_shift = 2\n",
    "\n",
    "## Setting node attributes\n",
    "# Each node will get attributes L1=node id, L2=slice number, x position, y position, z positions, and name/id\n",
    "L2_classes = np.arange(nLayers)\n",
    "id_dict = {i:(\"id\"+str(i)) for i in np.arange(nNodes*nLayers)}\n",
    "x_dict = {}\n",
    "y_dict = {}\n",
    "L2_dict = {}\n",
    "z_dict = {}\n",
    "L1_dict = {}\n",
    "for level in L2_classes:\n",
    "    pos_dict = pos\n",
    "    x_dict.update({(key+(level*nNodes)):float(pos_dict[key][0]+scalefact) for key in pos_dict})\n",
    "    y_dict.update({(key+(level*nNodes)):float(pos_dict[key][1]+scalefact) for key in pos_dict})\n",
    "    L2_dict.update({i:float(level) for i in (np.arange(nNodes)+ (level*nNodes))})\n",
    "    z_dict.update({i:float(level*z_shift) for i in (np.arange(nNodes) + (level*nNodes))})\n",
    "    L1_dict.update({(i+level*nNodes):int(i) for i in np.arange(nNodes)})\n",
    "\n",
    "\n",
    "# Now assign the attributes to the nodes in G\n",
    "nx.set_node_attributes(G, id_dict, name = \"name\")\n",
    "nx.set_node_attributes(G, x_dict, name = \"x\")\n",
    "nx.set_node_attributes(G, y_dict, name = \"y\")\n",
    "nx.set_node_attributes(G, z_dict, name = \"z\")\n",
    "nx.set_node_attributes(G, L1_dict, name= \"L1\")\n",
    "nx.set_node_attributes(G, L2_dict, name= \"L2\")\n",
    "\n",
    "\n",
    "# Finally write to json file\n",
    "G_json = json_graph.node_link_data(G)\n",
    "with open(filename, 'w') as fp:\n",
    "    json.dump(G_json, fp)\n",
    "\n",
    "print(\"done writing file\")"
   ]
  },
  {
   "cell_type": "markdown",
   "metadata": {},
   "source": [
    "## Time series example"
   ]
  },
  {
   "cell_type": "code",
   "execution_count": 18,
   "metadata": {},
   "outputs": [
    {
     "data": {
      "image/png": "[encoded data removed]",
      "text/plain": [
       "<Figure size 432x360 with 2 Axes>"
      ]
     },
     "metadata": {
      "needs_background": "light"
     },
     "output_type": "display_data"
    }
   ],
   "source": [
    "# Set filename\n",
    "filename = \"data/mx_slide11.json\"\n",
    "\n",
    "# Define number of nodes (number of nodes in largest layer)\n",
    "nNodes = 10\n",
    "\n",
    "# Define number of levels\n",
    "nLayers = 14\n",
    "\n",
    "# Use multinetx to generate two graphs each on nNodes nodes\n",
    "graph_layers = [mx.generators.erdos_renyi_graph(nNodes,0.5,seed=np.random.randint(1,300)) for i in np.arange(nLayers)]\n",
    "\n",
    "\n",
    "# Define adjacency between layers. Here we only assign nodes to themselves in each layer.\n",
    "adj_block = mx.lil_matrix(np.zeros((nNodes*nLayers,nNodes*nLayers)))\n",
    "\n",
    "for i in np.arange(nLayers-1):\n",
    "    for l in np.arange(i+1,nLayers):\n",
    "        adj_block[i*nNodes:(i+1)*nNodes, (l)*nNodes:(l+1)*nNodes] = np.identity(nNodes)   \n",
    "\n",
    "adj_block += adj_block.T\n",
    "\n",
    "# Create multilayer graph\n",
    "mg = mx.MultilayerGraph(list_of_layers=graph_layers,\n",
    "                        inter_adjacency_matrix=adj_block)\n",
    "\n",
    "# Set edge weights\n",
    "mg.set_edges_weights(intra_layer_edges_weight=2,\n",
    "                     inter_layer_edges_weight=1)\n",
    "\n",
    "## Plot the supra-adjacency matrix\n",
    "fig = plt.figure(figsize=(6,5))\n",
    "sns.heatmap(mx.adjacency_matrix(mg,weight='weight').todense())\n",
    "plt.title('supra adjacency matrix');"
   ]
  },
  {
   "cell_type": "code",
   "execution_count": 19,
   "metadata": {},
   "outputs": [
    {
     "name": "stdout",
     "output_type": "stream",
     "text": [
      "done writing file\n"
     ]
    }
   ],
   "source": [
    "# Write to json file\n",
    "\n",
    "# We'll use networkx positioning to get nice layouts. We create a layout using a layer that contains all nNodes nodes.\n",
    "# In this case both layers are the same size so it doesn't matter :)\n",
    "# Feel free to change the layout used here. It will be reflected in the d3 plot.\n",
    "pos = nx.layout.fruchterman_reingold_layout(g1, dim=3)\n",
    "\n",
    "# We'll take advantage of networkx's nice json writing function later, so transform the mx graph into a large nx graph.\n",
    "G = nx.from_numpy_array(mx.adjacency_matrix(mg,weight='weight').todense())\n",
    "\n",
    "# scalefact helps us position the graph appropriately. I like 20 in general.\n",
    "scalefact = 20\n",
    "\n",
    "# z_shift sets an intitial measure for how far apart the levels will sit. This will later be stretched\n",
    "# by the d3 code but worth setting here to separate layers more.\n",
    "z_shift = 2\n",
    "\n",
    "## Setting node attributes\n",
    "# Each node will get attributes L1=node id, L2=slice number, x position, y position, z positions, and name/id\n",
    "L2_classes = np.arange(nLayers)\n",
    "id_dict = {i:(\"id\"+str(i)) for i in np.arange(nNodes*nLayers)}\n",
    "x_dict = {}\n",
    "y_dict = {}\n",
    "L2_dict = {}\n",
    "z_dict = {}\n",
    "L1_dict = {}\n",
    "for level in L2_classes:\n",
    "    pos_dict = pos\n",
    "    x_dict.update({(key+(level*nNodes)):float(pos_dict[key][0]+scalefact) for key in pos_dict})\n",
    "    y_dict.update({(key+(level*nNodes)):float(pos_dict[key][1]+scalefact) for key in pos_dict})\n",
    "    L2_dict.update({i:float(level) for i in (np.arange(nNodes)+ (level*nNodes))})\n",
    "    z_dict.update({i:float(level*z_shift) for i in (np.arange(nNodes) + (level*nNodes))})\n",
    "    L1_dict.update({(i+level*nNodes):int(i) for i in np.arange(nNodes)})\n",
    "\n",
    "\n",
    "# Now assign the attributes to the nodes in G\n",
    "nx.set_node_attributes(G, id_dict, name = \"name\")\n",
    "nx.set_node_attributes(G, x_dict, name = \"x\")\n",
    "nx.set_node_attributes(G, y_dict, name = \"y\")\n",
    "nx.set_node_attributes(G, z_dict, name = \"z\")\n",
    "nx.set_node_attributes(G, L1_dict, name= \"L1\")\n",
    "nx.set_node_attributes(G, L2_dict, name= \"L2\")\n",
    "\n",
    "\n",
    "# Finally write to json file\n",
    "G_json = json_graph.node_link_data(G)\n",
    "with open(filename, 'w') as fp:\n",
    "    json.dump(G_json, fp)\n",
    "\n",
    "print(\"done writing file\")"
   ]
  },
  {
   "cell_type": "markdown",
   "metadata": {},
   "source": [
    "## Non-identity inter-layer connections"
   ]
  },
  {
   "cell_type": "code",
   "execution_count": 22,
   "metadata": {},
   "outputs": [
    {
     "data": {
      "image/png": "[encoded data removed]",
      "text/plain": [
       "<Figure size 432x360 with 2 Axes>"
      ]
     },
     "metadata": {
      "needs_background": "light"
     },
     "output_type": "display_data"
    }
   ],
   "source": [
    "# Set filename\n",
    "filename = \"data/mx_slide12.json\"\n",
    "\n",
    "# Define number of nodes (number of nodes in largest layer)\n",
    "nNodes = 10\n",
    "\n",
    "# Define number of levels\n",
    "nLayers = 4\n",
    "\n",
    "# Use multinetx to generate graphs each on nNodes nodes\n",
    "graph_layers = [mx.generators.erdos_renyi_graph(nNodes,0.5,seed=np.random.randint(1,300)) for i in np.arange(nLayers)]\n",
    "\n",
    "\n",
    "# Define adjacency between layers. Now we randomly connect nodes in separate layers.\n",
    "adj_block = mx.lil_matrix(np.zeros((nNodes*nLayers,nNodes*nLayers)))\n",
    "\n",
    "for i in np.arange(nLayers-1):\n",
    "    for l in np.arange(i+1,nLayers):\n",
    "        adj_block[i*nNodes:(i+1)*nNodes, (l)*nNodes:(l+1)*nNodes] = np.random.choice([0,1],size=(nNodes,nNodes),replace=True,p=[0.9,0.1])   # L_1*\n",
    "\n",
    "adj_block += adj_block.T\n",
    "\n",
    "# Create multilayer graph\n",
    "mg = mx.MultilayerGraph(list_of_layers=graph_layers,\n",
    "                        inter_adjacency_matrix=adj_block)\n",
    "\n",
    "# Set edge weights\n",
    "mg.set_edges_weights(intra_layer_edges_weight=2,\n",
    "                     inter_layer_edges_weight=1)\n",
    "\n",
    "## Plot the supra-adjacency matrix\n",
    "fig = plt.figure(figsize=(6,5))\n",
    "sns.heatmap(mx.adjacency_matrix(mg,weight='weight').todense())\n",
    "plt.title('supra adjacency matrix');\n",
    "\n"
   ]
  },
  {
   "cell_type": "code",
   "execution_count": 23,
   "metadata": {},
   "outputs": [
    {
     "name": "stdout",
     "output_type": "stream",
     "text": [
      "done writing file\n"
     ]
    }
   ],
   "source": [
    "# Write to json file\n",
    "\n",
    "# We'll use networkx positioning to get nice layouts. We create a layout using a layer that contains all nNodes nodes.\n",
    "# In this case both layers are the same size so it doesn't matter :)\n",
    "# Feel free to change the layout used here. It will be reflected in the d3 plot.\n",
    "pos = nx.layout.fruchterman_reingold_layout(g1, dim=3)\n",
    "\n",
    "# We'll take advantage of networkx's nice json writing function later, so transform the mx graph into a large nx graph.\n",
    "G = nx.from_numpy_array(mx.adjacency_matrix(mg,weight='weight').todense())\n",
    "\n",
    "# scalefact helps us position the graph appropriately. I like 20 in general.\n",
    "scalefact = 20\n",
    "\n",
    "# z_shift sets an intitial measure for how far apart the levels will sit. This will later be stretched\n",
    "# by the d3 code but worth setting here to separate layers more.\n",
    "z_shift = 2\n",
    "\n",
    "## Setting node attributes\n",
    "# Each node will get attributes L1=node id, L2=slice number, x position, y position, z positions, and name/id\n",
    "L2_classes = np.arange(nLayers)\n",
    "id_dict = {i:(\"id\"+str(i)) for i in np.arange(nNodes*nLayers)}\n",
    "x_dict = {}\n",
    "y_dict = {}\n",
    "L2_dict = {}\n",
    "z_dict = {}\n",
    "L1_dict = {}\n",
    "for level in L2_classes:\n",
    "    pos_dict = pos\n",
    "    x_dict.update({(key+(level*nNodes)):float(pos_dict[key][0]+scalefact) for key in pos_dict})\n",
    "    y_dict.update({(key+(level*nNodes)):float(pos_dict[key][1]+scalefact) for key in pos_dict})\n",
    "    L2_dict.update({i:float(level) for i in (np.arange(nNodes)+ (level*nNodes))})\n",
    "    z_dict.update({i:float(level*z_shift) for i in (np.arange(nNodes) + (level*nNodes))})\n",
    "    L1_dict.update({(i+level*nNodes):int(i) for i in np.arange(nNodes)})\n",
    "\n",
    "\n",
    "# Now assign the attributes to the nodes in G\n",
    "nx.set_node_attributes(G, id_dict, name = \"name\")\n",
    "nx.set_node_attributes(G, x_dict, name = \"x\")\n",
    "nx.set_node_attributes(G, y_dict, name = \"y\")\n",
    "nx.set_node_attributes(G, z_dict, name = \"z\")\n",
    "nx.set_node_attributes(G, L1_dict, name= \"L1\")\n",
    "nx.set_node_attributes(G, L2_dict, name= \"L2\")\n",
    "\n",
    "\n",
    "# Finally write to json file\n",
    "G_json = json_graph.node_link_data(G)\n",
    "with open(filename, 'w') as fp:\n",
    "    json.dump(G_json, fp)\n",
    "\n",
    "print(\"done writing file\")"
   ]
  },
  {
   "cell_type": "markdown",
   "metadata": {},
   "source": [
    "## Case where nodes are not in every layer"
   ]
  },
  {
   "cell_type": "code",
   "execution_count": 27,
   "metadata": {},
   "outputs": [
    {
     "data": {
      "image/png": "[encoded data removed]",
      "text/plain": [
       "<Figure size 432x360 with 2 Axes>"
      ]
     },
     "metadata": {
      "needs_background": "light"
     },
     "output_type": "display_data"
    }
   ],
   "source": [
    "# When we do not have all nNodes in each layer, we will proceed as before but then delete nodes towards the end\n",
    "\n",
    "# Set filename\n",
    "filename = \"data/mx_slide14.json\"\n",
    "\n",
    "# Define number of nodes (number of nodes in largest layer)\n",
    "nNodes = 10\n",
    "\n",
    "# Define number of levels\n",
    "nLayers = 3\n",
    "\n",
    "# Set which nodes should not exist in the final graph\n",
    "nodes_to_remove = [11, 17, 21, 25, 28]\n",
    "\n",
    "# Use multinetx to generate two graphs each on nNodes nodes\n",
    "g1 = mx.generators.erdos_renyi_graph(nNodes,0.5,seed=102)\n",
    "g2 = mx.generators.erdos_renyi_graph(nNodes,0.5,seed=54)\n",
    "g3 = mx.generators.erdos_renyi_graph(nNodes,0.5,seed=194)\n",
    "\n",
    "\n",
    "# Define adjacency between layers. Here we only assign nodes to themselves in each layer.\n",
    "adj_block = mx.lil_matrix(np.zeros((nNodes*nLayers,nNodes*nLayers)))\n",
    "\n",
    "for i in np.arange(nLayers-1):\n",
    "    for l in np.arange(i+1,nLayers):\n",
    "        adj_block[i*nNodes:(i+1)*nNodes, (l)*nNodes:(l+1)*nNodes] = np.identity(nNodes)   \n",
    "\n",
    "adj_block += adj_block.T\n",
    "\n",
    "# Create multilayer graph\n",
    "mg = mx.MultilayerGraph(list_of_layers=[g1,g2,g3],\n",
    "                        inter_adjacency_matrix=adj_block)\n",
    "\n",
    "# Set edge weights\n",
    "mg.set_edges_weights(intra_layer_edges_weight=2,\n",
    "                     inter_layer_edges_weight=1)\n",
    "\n",
    "## Plot the supra-adjacency matrix\n",
    "fig = plt.figure(figsize=(6,5))\n",
    "sns.heatmap(mx.adjacency_matrix(mg,weight='weight').todense())\n",
    "plt.title('supra adjacency matrix (before removing nodes)');\n",
    "\n"
   ]
  },
  {
   "cell_type": "code",
   "execution_count": 28,
   "metadata": {},
   "outputs": [
    {
     "ename": "NameError",
     "evalue": "name 'L2_array_original' is not defined",
     "output_type": "error",
     "traceback": [
      "\u001b[0;31m---------------------------------------------------------------------------\u001b[0m",
      "\u001b[0;31mNameError\u001b[0m                                 Traceback (most recent call last)",
      "\u001b[0;32m<ipython-input-28-bf645b8a6ca3>\u001b[0m in \u001b[0;36m<module>\u001b[0;34m\u001b[0m\n\u001b[1;32m     38\u001b[0m \u001b[0;34m\u001b[0m\u001b[0m\n\u001b[1;32m     39\u001b[0m \u001b[0;31m# Need to delete nodes from our attribute dictionaries, too\u001b[0m\u001b[0;34m\u001b[0m\u001b[0;34m\u001b[0m\u001b[0;34m\u001b[0m\u001b[0m\n\u001b[0;32m---> 40\u001b[0;31m \u001b[0mL2_array\u001b[0m \u001b[0;34m=\u001b[0m \u001b[0mnp\u001b[0m\u001b[0;34m.\u001b[0m\u001b[0mdelete\u001b[0m\u001b[0;34m(\u001b[0m\u001b[0mL2_array_original\u001b[0m\u001b[0;34m,\u001b[0m \u001b[0mnodes_to_remove\u001b[0m\u001b[0;34m,\u001b[0m \u001b[0;36m0\u001b[0m\u001b[0;34m)\u001b[0m\u001b[0;34m\u001b[0m\u001b[0;34m\u001b[0m\u001b[0m\n\u001b[0m\u001b[1;32m     41\u001b[0m \u001b[0mz_array\u001b[0m \u001b[0;34m=\u001b[0m \u001b[0mnp\u001b[0m\u001b[0;34m.\u001b[0m\u001b[0mdelete\u001b[0m\u001b[0;34m(\u001b[0m\u001b[0mz_array_original\u001b[0m\u001b[0;34m,\u001b[0m \u001b[0mnodes_to_remove\u001b[0m\u001b[0;34m,\u001b[0m \u001b[0;36m0\u001b[0m\u001b[0;34m)\u001b[0m\u001b[0;34m\u001b[0m\u001b[0;34m\u001b[0m\u001b[0m\n\u001b[1;32m     42\u001b[0m \u001b[0mx_array\u001b[0m \u001b[0;34m=\u001b[0m \u001b[0mnp\u001b[0m\u001b[0;34m.\u001b[0m\u001b[0mdelete\u001b[0m\u001b[0;34m(\u001b[0m\u001b[0mx_orig\u001b[0m\u001b[0;34m,\u001b[0m \u001b[0mnodes_to_remove\u001b[0m\u001b[0;34m,\u001b[0m \u001b[0;36m0\u001b[0m\u001b[0;34m)\u001b[0m\u001b[0;34m\u001b[0m\u001b[0;34m\u001b[0m\u001b[0m\n",
      "\u001b[0;31mNameError\u001b[0m: name 'L2_array_original' is not defined"
     ]
    }
   ],
   "source": [
    "## Need to assign positions under the assumption that all nodes exist in each layer, that way the nodes\n",
    "# that show up in multiple layers will be on top of each other.\n",
    "pos = nx.circular_layout(g1)\n",
    "\n",
    "\n",
    "# From the sparse adj, make a networkx graph and add node attributes\n",
    "G1 = nx.from_numpy_array(mx.adjacency_matrix(mg,weight='weight').todense())\n",
    "\n",
    "# Remove nodes from G\n",
    "G1.remove_nodes_from(nodes_to_remove)\n",
    "\n",
    "# Recreate the graph G to make the rest work nicely.\n",
    "G = nx.from_numpy_array(nx.adjacency_matrix(G1).todense())\n",
    "\n",
    "\n",
    "######## ANN FIX L1_dict\n",
    "scalefact = 20\n",
    "L2_classes = np.arange(nLayers)\n",
    "L2_array_original = np.array([])\n",
    "z_shift = 2\n",
    "z_array_original = np.array([])\n",
    "x_orig = np.array([])\n",
    "y_orig = np.array([])\n",
    "for level in L2_classes:\n",
    "    L2_array_original = np.concatenate((L2_array_original, np.array([float(level) for i in np.arange(nNodes)])))\n",
    "    z_array_original = np.concatenate((z_array_original, np.array([float(level*z_shift) for i in np.arange(nNodes)])))\n",
    "    x_orig = np.concatenate((x_orig, [pos[key][0]+scalefact for key in pos]))\n",
    "    y_orig = np.concatenate((y_orig, [pos[key][1]+scalefact for key in pos]))\n",
    "    \n",
    "# Need to delete nodes from our attribute dictionaries, too\n",
    "L2_array = np.delete(L2_array_original, nodes_to_remove, 0)\n",
    "z_array = np.delete(z_array_original, nodes_to_remove, 0)\n",
    "x_array = np.delete(x_orig, nodes_to_remove, 0)\n",
    "y_array = np.delete(y_orig, nodes_to_remove, 0)\n",
    "\n",
    "## Each node will get attributes L1=node id, L2=slice number, x position, y position, and name/id\n",
    "\n",
    "id_dict = {i:(\"id\"+str(i)) for i in np.arange(nNodes*nLayers)}\n",
    "x_dict = {}\n",
    "y_dict = {}\n",
    "L2_dict = {i:l2 for i,l2 in enumerate(L2_array)}\n",
    "z_dict = {i:z_val for i,z_val in enumerate(z_array)}\n",
    "x_dict = {i:x_val for i,x_val in enumerate(x_array)}\n",
    "y_dict = {i:y_val for i,y_val in enumerate(y_array)}\n",
    "L1_dict = {}\n",
    "\n",
    "for level in L2_classes:\n",
    "    pos_dict = pos\n",
    "    L1_dict.update({(i+level*nNodes):int(i) for i in np.arange(nNodes)})\n",
    "\n",
    "\n",
    "\n",
    "# nx.set_node_attributes(G, pos, name=\"pos\")\n",
    "nx.set_node_attributes(G, id_dict, name = \"name\")\n",
    "nx.set_node_attributes(G, x_dict, name = \"x\")\n",
    "nx.set_node_attributes(G, y_dict, name = \"y\")\n",
    "nx.set_node_attributes(G, z_dict, name = \"z\")\n",
    "nx.set_node_attributes(G, L1_dict, name= \"L1\")\n",
    "nx.set_node_attributes(G, L2_dict, name= \"L2\")\n",
    "\n",
    "G_json = json_graph.node_link_data(G)\n",
    "with open('data/mx_slide14.json', 'w') as fp:\n",
    "    json.dump(G_json, fp)\n",
    "\n",
    "print(\"done writing file\")\n",
    "sns.heatmap(nx.adjacency_matrix(G).todense())"
   ]
  },
  {
   "cell_type": "code",
   "execution_count": 48,
   "metadata": {},
   "outputs": [
    {
     "data": {
      "text/plain": [
       "{0: 0.0,\n",
       " 1: 0.0,\n",
       " 2: 0.0,\n",
       " 3: 0.0,\n",
       " 4: 0.0,\n",
       " 5: 0.0,\n",
       " 6: 0.0,\n",
       " 7: 0.0,\n",
       " 8: 0.0,\n",
       " 9: 0.0,\n",
       " 10: 2.0,\n",
       " 11: 2.0,\n",
       " 12: 2.0,\n",
       " 13: 2.0,\n",
       " 14: 2.0,\n",
       " 15: 2.0,\n",
       " 16: 2.0,\n",
       " 17: 2.0,\n",
       " 18: 2.0,\n",
       " 19: 2.0,\n",
       " 20: 4.0,\n",
       " 21: 4.0,\n",
       " 22: 4.0,\n",
       " 23: 4.0,\n",
       " 24: 4.0,\n",
       " 25: 4.0,\n",
       " 26: 4.0,\n",
       " 27: 4.0,\n",
       " 28: 4.0,\n",
       " 29: 4.0}"
      ]
     },
     "execution_count": 48,
     "metadata": {},
     "output_type": "execute_result"
    }
   ],
   "source": [
    "z_dict"
   ]
  },
  {
   "cell_type": "code",
   "execution_count": 6,
   "metadata": {},
   "outputs": [
    {
     "name": "stdout",
     "output_type": "stream",
     "text": [
      "dict_keys(['nodes', 'links'])\n"
     ]
    }
   ],
   "source": [
    "############## Plotly please?\n",
    "\n",
    "import igraph as ig\n",
    "\n",
    "import json\n",
    "import urllib.request as urllib2\n",
    "\n",
    "data = []\n",
    "req = urllib2.Request(\"https://raw.githubusercontent.com/plotly/datasets/master/miserables.json\")\n",
    "opener = urllib2.build_opener()\n",
    "f = opener.open(req)\n",
    "data = json.loads(f.read())\n",
    "\n",
    "print(data.keys())"
   ]
  },
  {
   "cell_type": "code",
   "execution_count": 7,
   "metadata": {},
   "outputs": [],
   "source": [
    "N=len(data['nodes'])\n",
    "N\n",
    "L=len(data['links'])\n",
    "Edges=[(data['links'][k]['source'], data['links'][k]['target']) for k in range(L)]\n",
    "\n",
    "G=ig.Graph(Edges, directed=False)\n",
    "data['nodes'][0]\n",
    "\n",
    "labels=[]\n",
    "group=[]\n",
    "for node in data['nodes']:\n",
    "    labels.append(node['name'])\n",
    "    group.append(node['group'])\n",
    "    \n",
    "layt=G.layout('kk', dim=3)\n",
    "Xn=[layt[k][0] for k in range(N)]# x-coordinates of nodes\n",
    "Yn=[layt[k][1] for k in range(N)]# y-coordinates\n",
    "Zn=[layt[k][2] for k in range(N)]# z-coordinates\n",
    "Xe=[]\n",
    "Ye=[]\n",
    "Ze=[]\n",
    "for e in Edges:\n",
    "    Xe+=[layt[e[0]][0],layt[e[1]][0], None]# x-coordinates of edge ends\n",
    "    Ye+=[layt[e[0]][1],layt[e[1]][1], None]\n",
    "    Ze+=[layt[e[0]][2],layt[e[1]][2], None]\n"
   ]
  },
  {
   "cell_type": "code",
   "execution_count": 8,
   "metadata": {},
   "outputs": [
    {
     "ename": "ModuleNotFoundError",
     "evalue": "No module named 'plotly.express'",
     "output_type": "error",
     "traceback": [
      "\u001b[0;31m---------------------------------------------------------------------------\u001b[0m",
      "\u001b[0;31mModuleNotFoundError\u001b[0m                       Traceback (most recent call last)",
      "\u001b[0;32m<ipython-input-8-890067de9ad7>\u001b[0m in \u001b[0;36m<module>\u001b[0;34m\u001b[0m\n\u001b[0;32m----> 1\u001b[0;31m \u001b[0;32mimport\u001b[0m \u001b[0mplotly\u001b[0m\u001b[0;34m.\u001b[0m\u001b[0mexpress\u001b[0m \u001b[0;32mas\u001b[0m \u001b[0mpx\u001b[0m\u001b[0;34m\u001b[0m\u001b[0;34m\u001b[0m\u001b[0m\n\u001b[0m\u001b[1;32m      2\u001b[0m \u001b[0;32mimport\u001b[0m \u001b[0mplotly\u001b[0m\u001b[0;34m.\u001b[0m\u001b[0mgraph_objs\u001b[0m \u001b[0;32mas\u001b[0m \u001b[0mgo\u001b[0m\u001b[0;34m\u001b[0m\u001b[0;34m\u001b[0m\u001b[0m\n\u001b[1;32m      3\u001b[0m \u001b[0;34m\u001b[0m\u001b[0m\n\u001b[1;32m      4\u001b[0m trace1=go.Scatter3d(x=Xe,\n\u001b[1;32m      5\u001b[0m                \u001b[0my\u001b[0m\u001b[0;34m=\u001b[0m\u001b[0mYe\u001b[0m\u001b[0;34m,\u001b[0m\u001b[0;34m\u001b[0m\u001b[0;34m\u001b[0m\u001b[0m\n",
      "\u001b[0;31mModuleNotFoundError\u001b[0m: No module named 'plotly.express'"
     ]
    }
   ],
   "source": [
    "import plotly.express as px\n",
    "import plotly.graph_objs as go\n",
    "\n",
    "trace1=go.Scatter3d(x=Xe,\n",
    "               y=Ye,\n",
    "               z=Ze,\n",
    "               mode='lines',\n",
    "               line=dict(color='rgb(125,125,125)', width=1),\n",
    "               hoverinfo='none'\n",
    "               )\n",
    "\n",
    "trace2=go.Scatter3d(x=Xn,\n",
    "               y=Yn,\n",
    "               z=Zn,\n",
    "               mode='markers',\n",
    "               name='actors',\n",
    "               marker=dict(symbol='circle',\n",
    "                             size=6,\n",
    "                             color=group,\n",
    "                             colorscale='Viridis',\n",
    "                             line=dict(color='rgb(50,50,50)', width=0.5)\n",
    "                             ),\n",
    "               text=labels,\n",
    "               hoverinfo='text'\n",
    "               )\n",
    "\n",
    "axis=dict(showbackground=False,\n",
    "          showline=False,\n",
    "          zeroline=False,\n",
    "          showgrid=False,\n",
    "          showticklabels=False,\n",
    "          title=''\n",
    "          )\n",
    "\n",
    "layout = go.Layout(\n",
    "         title=\"Network of coappearances of characters in Victor Hugo's novel<br> Les Miserables (3D visualization)\",\n",
    "         width=1000,\n",
    "         height=1000,\n",
    "         showlegend=False,\n",
    "         scene=dict(\n",
    "             xaxis=dict(axis),\n",
    "             yaxis=dict(axis),\n",
    "             zaxis=dict(axis),\n",
    "        ),\n",
    "     margin=dict(\n",
    "        t=100\n",
    "    ),\n",
    "    hovermode='closest',\n",
    "    annotations=[\n",
    "           dict(\n",
    "           showarrow=False,\n",
    "            text=\"Data source: <a href='http://bost.ocks.org/mike/miserables/miserables.json'>[1] miserables.json</a>\",\n",
    "            xref='paper',\n",
    "            yref='paper',\n",
    "            x=0,\n",
    "            y=0.1,\n",
    "            xanchor='left',\n",
    "            yanchor='bottom',\n",
    "            font=dict(\n",
    "            size=14\n",
    "            )\n",
    "            )\n",
    "        ],    )\n",
    "\n",
    "data=[trace1, trace2]\n",
    "fig=go.Figure(data=data, layout=layout)\n",
    "\n",
    "py.iplot(fig, filename='Les-Miserables')"
   ]
  },
  {
   "cell_type": "code",
   "execution_count": 7,
   "metadata": {},
   "outputs": [
    {
     "name": "stdout",
     "output_type": "stream",
     "text": [
      "\u001b[31mERROR: Invalid requirement: '=='\u001b[0m\n",
      "Note: you may need to restart the kernel to use updated packages.\n"
     ]
    }
   ],
   "source": [
    "pip uninstall cufflinks pip install plotly == 3.10.0"
   ]
  },
  {
   "cell_type": "code",
   "execution_count": null,
   "metadata": {},
   "outputs": [],
   "source": []
  }
 ],
 "metadata": {
  "kernelspec": {
   "display_name": "Python 3",
   "language": "python",
   "name": "python3"
  },
  "language_info": {
   "codemirror_mode": {
    "name": "ipython",
    "version": 3
   },
   "file_extension": ".py",
   "mimetype": "text/x-python",
   "name": "python",
   "nbconvert_exporter": "python",
   "pygments_lexer": "ipython3",
   "version": "3.7.3"
  }
 },
 "nbformat": 4,
 "nbformat_minor": 2
}
