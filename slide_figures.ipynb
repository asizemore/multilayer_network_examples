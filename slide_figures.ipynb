{
 "cells": [
  {
   "cell_type": "code",
   "execution_count": 1,
   "metadata": {},
   "outputs": [
    {
     "name": "stdout",
     "output_type": "stream",
     "text": [
      "Done importing packages :)\n"
     ]
    }
   ],
   "source": [
    "## Import packages\n",
    "\n",
    "import numpy as np\n",
    "import matplotlib.pyplot as plt\n",
    "import seaborn as sns\n",
    "import networkx as nx\n",
    "import multinetx as mx\n",
    "import scipy.io as sio\n",
    "from networkx.readwrite import json_graph\n",
    "import json\n",
    "import pandas as pd\n",
    "import os\n",
    "import sys\n",
    "\n",
    "print(\"Done importing packages :)\")"
   ]
  },
  {
   "cell_type": "code",
   "execution_count": 2,
   "metadata": {},
   "outputs": [
    {
     "name": "stdout",
     "output_type": "stream",
     "text": [
      "finished defining functions\n"
     ]
    }
   ],
   "source": [
    "## Define useful functions\n",
    "\n",
    "def write_mx_to_json(filename, mx, nNodes, pos, nLayers, nodes_to_remove = []):\n",
    "    \n",
    "    # filename the complete name of the output file (data/slide_x.json)\n",
    "    # mx the multilayer network as a multinetx object\n",
    "    # nNodes the number of nodes in the first layer\n",
    "    # pos a dictionary of node coordinates\n",
    "    # nLayers the number of layers in the second aspect.\n",
    "    # nodes_to_remove is a list of nodes that should not exist in each layer. Default = []\n",
    "    \n",
    "    # From the sparse adj, make a networkx graph and add node attributes\n",
    "    G1 = nx.from_numpy_array(mx.adjacency_matrix(mg,weight='weight').todense())\n",
    "\n",
    "    # Remove nodes from G\n",
    "    G1.remove_nodes_from(nodes_to_remove)\n",
    "\n",
    "    # Recreate the graph G to make the rest work nicely.\n",
    "    G = nx.from_numpy_array(nx.adjacency_matrix(G1).todense())\n",
    "\n",
    "\n",
    "    # Create dictionaries pretending like all nodes exist\n",
    "    scalefact = 20\n",
    "    L2_classes = np.arange(nLayers)\n",
    "    L2_array_original = np.array([])\n",
    "    z_shift = 2\n",
    "    z_array_original = np.array([])\n",
    "    x_orig = np.array([])\n",
    "    y_orig = np.array([])\n",
    "    L1_orig = np.array([])\n",
    "    for level in L2_classes:\n",
    "        L2_array_original = np.concatenate((L2_array_original, np.array([float(level) for i in np.arange(nNodes)])))\n",
    "        z_array_original = np.concatenate((z_array_original, np.array([float(level*z_shift) for i in np.arange(nNodes)])))\n",
    "        x_orig = np.concatenate((x_orig, [pos[key][0]+scalefact for key in pos]))\n",
    "        y_orig = np.concatenate((y_orig, [pos[key][1]+scalefact for key in pos]))\n",
    "        L1_orig = np.concatenate((L1_orig, [i for i in np.arange(nNodes)]))\n",
    "\n",
    "    # Need to delete nodes from our attribute dictionaries, too\n",
    "    L2_array = np.delete(L2_array_original, nodes_to_remove, 0)\n",
    "    z_array = np.delete(z_array_original, nodes_to_remove, 0)\n",
    "    x_array = np.delete(x_orig, nodes_to_remove, 0)\n",
    "    y_array = np.delete(y_orig, nodes_to_remove, 0)\n",
    "    L1_array = np.delete(L1_orig, nodes_to_remove, 0)\n",
    "\n",
    "    ## Each node will get attributes L1=node id, L2=slice number, x position, y position, and name/id\n",
    "\n",
    "    id_dict = {i:(\"id\"+str(i)) for i in np.arange(nNodes*nLayers)}\n",
    "    x_dict = {}\n",
    "    y_dict = {}\n",
    "    L2_dict = {i:l2 for i,l2 in enumerate(L2_array)}\n",
    "    z_dict = {i:z_val for i,z_val in enumerate(z_array)}\n",
    "    x_dict = {i:x_val for i,x_val in enumerate(x_array)}\n",
    "    y_dict = {i:y_val for i,y_val in enumerate(y_array)}\n",
    "    L1_dict = {i:L1_val for i,L1_val in enumerate(L1_array)}\n",
    "\n",
    "\n",
    "    # nx.set_node_attributes(G, pos, name=\"pos\")\n",
    "    nx.set_node_attributes(G, id_dict, name = \"name\")\n",
    "    nx.set_node_attributes(G, x_dict, name = \"x\")\n",
    "    nx.set_node_attributes(G, y_dict, name = \"y\")\n",
    "    nx.set_node_attributes(G, z_dict, name = \"z\")\n",
    "    nx.set_node_attributes(G, L1_dict, name= \"L1\")\n",
    "    nx.set_node_attributes(G, L2_dict, name= \"L2\")\n",
    "\n",
    "    G_json = json_graph.node_link_data(G)\n",
    "    with open(filename, 'w') as fp:\n",
    "        json.dump(G_json, fp)\n",
    "\n",
    "    print(f\"done writing mx to {filename}\")\n",
    "\n",
    "\n",
    "\n",
    "\n",
    "#Finished defining functions\n",
    "print(\"finished defining functions\")"
   ]
  },
  {
   "cell_type": "markdown",
   "metadata": {},
   "source": [
    "## Multilayer network ex 1: Two aspects, two layers\n",
    "\n",
    "Aspect L1: nodes as usual\n",
    "Aspect L2: \"A\" or \"B\""
   ]
  },
  {
   "cell_type": "code",
   "execution_count": 5,
   "metadata": {},
   "outputs": [],
   "source": [
    "# Set filename\n",
    "filename = \"data/mx_2layers.json\"\n",
    "\n",
    "# Define number of nodes (number of nodes in largest layer)\n",
    "nNodes = 10\n",
    "\n",
    "# Define number of levels\n",
    "nLayers = 2\n",
    "\n",
    "# Use multinetx to generate two graphs each on nNodes nodes\n",
    "g1 = mx.generators.erdos_renyi_graph(nNodes,0.5,seed=218)\n",
    "g2 = mx.generators.erdos_renyi_graph(nNodes,0.5,seed=132)\n",
    "\n",
    "# Define adjacency between layers. Here we only assign nodes to themselves in each layer.\n",
    "adj_block = mx.lil_matrix(np.zeros((nNodes*3,nNodes*3)))\n",
    "adj_block[0:  nNodes,  nNodes:2*nNodes] = np.identity(nNodes)    # L_12\n",
    "adj_block += adj_block.T\n",
    "\n",
    "# Create multilayer graph with mx\n",
    "mg = mx.MultilayerGraph(list_of_layers=[g1,g2],\n",
    "                        inter_adjacency_matrix=adj_block)\n",
    "\n",
    "# Here we can set the edge weights to different values just so we can see which are inter- and intra-layer edges\n",
    "mg.set_edges_weights(intra_layer_edges_weight=2,\n",
    "                     inter_layer_edges_weight=1)\n"
   ]
  },
  {
   "cell_type": "code",
   "execution_count": 6,
   "metadata": {},
   "outputs": [
    {
     "data": {
      "image/png": "[encoded data removed]",
      "text/plain": [
       "<Figure size 432x360 with 2 Axes>"
      ]
     },
     "metadata": {
      "needs_background": "light"
     },
     "output_type": "display_data"
    }
   ],
   "source": [
    "## Plot the supra-adjacency matrix\n",
    "fig = plt.figure(figsize=(6,5))\n",
    "sns.heatmap(mx.adjacency_matrix(mg,weight='weight').todense())\n",
    "plt.title('supra adjacency matrix');\n"
   ]
  },
  {
   "cell_type": "code",
   "execution_count": 7,
   "metadata": {},
   "outputs": [
    {
     "name": "stdout",
     "output_type": "stream",
     "text": [
      "done writing mx to data/mx_2layers.json\n"
     ]
    }
   ],
   "source": [
    "# Write to json file\n",
    "\n",
    "# We'll use networkx positioning to get nice layouts. We create a layout using a layer that contains all nNodes nodes.\n",
    "# In this case both layers are the same size so it doesn't matter :)\n",
    "\n",
    "# Feel free to change the layout used here. It will be reflected in the d3 plot. However pos is changed, it should\n",
    "# remain a dictionary mapping nodes to coordinate arrays with at least an x and y position.\n",
    "pos = nx.layout.fruchterman_reingold_layout(g1, dim=3, k=1)\n",
    "\n",
    "write_mx_to_json(filename,mx, nNodes, pos, nLayers)\n"
   ]
  },
  {
   "cell_type": "markdown",
   "metadata": {},
   "source": [
    "## Ex 2: 2 aspects, 5 layers\n"
   ]
  },
  {
   "cell_type": "code",
   "execution_count": 6,
   "metadata": {},
   "outputs": [
    {
     "data": {
      "image/png": "[encoded data removed]",
      "text/plain": [
       "<Figure size 432x360 with 2 Axes>"
      ]
     },
     "metadata": {
      "needs_background": "light"
     },
     "output_type": "display_data"
    }
   ],
   "source": [
    "# Set filename\n",
    "filename = \"data/mx_5layers.json\"\n",
    "\n",
    "# Define number of nodes (number of nodes in largest layer)\n",
    "nNodes = 10\n",
    "\n",
    "# Define number of levels\n",
    "nLayers = 5\n",
    "\n",
    "# Use multinetx to generate two graphs each on nNodes nodes\n",
    "g1 = mx.generators.erdos_renyi_graph(nNodes,0.5,seed=218)\n",
    "g2 = mx.generators.erdos_renyi_graph(nNodes,0.5,seed=132)\n",
    "g3 = mx.generators.erdos_renyi_graph(nNodes,0.5,seed=192)\n",
    "g4 = mx.generators.erdos_renyi_graph(nNodes,0.5,seed=19)\n",
    "g5 = mx.generators.erdos_renyi_graph(nNodes,0.5,seed=102)\n",
    "\n",
    "# Define adjacency between layers. Here we only assign nodes to themselves in each layer.\n",
    "adj_block = mx.lil_matrix(np.zeros((nNodes*nLayers,nNodes*nLayers)))\n",
    "\n",
    "for i in np.arange(nLayers-1):\n",
    "    for l in np.arange(i+1,nLayers):\n",
    "        adj_block[i*nNodes:(i+1)*nNodes, (l)*nNodes:(l+1)*nNodes] = np.identity(nNodes)   \n",
    "\n",
    "adj_block += adj_block.T\n",
    "\n",
    "# Create multilayer graph\n",
    "mg = mx.MultilayerGraph(list_of_layers=[g1,g2,g3,g4,g5],\n",
    "                        inter_adjacency_matrix=adj_block)\n",
    "\n",
    "# Set edge weights\n",
    "mg.set_edges_weights(intra_layer_edges_weight=2,\n",
    "                     inter_layer_edges_weight=1)\n",
    "\n",
    "## Plot the supra-adjacency matrix\n",
    "fig = plt.figure(figsize=(6,5))\n",
    "sns.heatmap(mx.adjacency_matrix(mg,weight='weight').todense())\n",
    "plt.title('supra adjacency matrix');\n",
    "\n"
   ]
  },
  {
   "cell_type": "code",
   "execution_count": 7,
   "metadata": {},
   "outputs": [
    {
     "name": "stdout",
     "output_type": "stream",
     "text": [
      "done writing mx to data/mx_5layers.json\n"
     ]
    }
   ],
   "source": [
    "# Write to json file\n",
    "\n",
    "# We'll use networkx positioning to get nice layouts. We create a layout using a layer that contains all nNodes nodes.\n",
    "# In this case both layers are the same size so it doesn't matter :)\n",
    "# Feel free to change the layout used here. It will be reflected in the d3 plot.\n",
    "pos = nx.layout.fruchterman_reingold_layout(g1, dim=3)\n",
    "\n",
    "# write to json file\n",
    "write_mx_to_json(filename, mx, nNodes, pos, nLayers)"
   ]
  },
  {
   "cell_type": "markdown",
   "metadata": {},
   "source": [
    "## Time series example"
   ]
  },
  {
   "cell_type": "code",
   "execution_count": 8,
   "metadata": {},
   "outputs": [
    {
     "data": {
      "image/png": "[encoded data removed]",
      "text/plain": [
       "<Figure size 432x360 with 2 Axes>"
      ]
     },
     "metadata": {
      "needs_background": "light"
     },
     "output_type": "display_data"
    }
   ],
   "source": [
    "# Set filename\n",
    "filename = \"data/mx_timeseries.json\"\n",
    "\n",
    "# Define number of nodes (number of nodes in largest layer)\n",
    "nNodes = 10\n",
    "\n",
    "# Define number of levels\n",
    "nLayers = 14\n",
    "\n",
    "# Use multinetx to generate fourteen graphs each on nNodes nodes\n",
    "graph_layers = [mx.generators.erdos_renyi_graph(nNodes,0.5,seed=np.random.randint(1,300)) for i in np.arange(nLayers)]\n",
    "\n",
    "\n",
    "# Define adjacency between layers. Here we only assign nodes to themselves in each layer.\n",
    "adj_block = mx.lil_matrix(np.zeros((nNodes*nLayers,nNodes*nLayers)))\n",
    "\n",
    "for i in np.arange(nLayers-1):\n",
    "    for l in np.arange(i+1,nLayers):\n",
    "        adj_block[i*nNodes:(i+1)*nNodes, (l)*nNodes:(l+1)*nNodes] = np.identity(nNodes)   \n",
    "\n",
    "adj_block += adj_block.T\n",
    "\n",
    "# Create multilayer graph\n",
    "mg = mx.MultilayerGraph(list_of_layers=graph_layers,\n",
    "                        inter_adjacency_matrix=adj_block)\n",
    "\n",
    "# Set edge weights\n",
    "mg.set_edges_weights(intra_layer_edges_weight=2,\n",
    "                     inter_layer_edges_weight=1)\n",
    "\n",
    "## Plot the supra-adjacency matrix\n",
    "fig = plt.figure(figsize=(6,5))\n",
    "sns.heatmap(mx.adjacency_matrix(mg,weight='weight').todense())\n",
    "plt.title('supra adjacency matrix');"
   ]
  },
  {
   "cell_type": "code",
   "execution_count": 9,
   "metadata": {},
   "outputs": [
    {
     "name": "stdout",
     "output_type": "stream",
     "text": [
      "done writing mx to data/mx_timeseries.json\n"
     ]
    }
   ],
   "source": [
    "# Write to json file\n",
    "\n",
    "# We'll use networkx positioning to get nice layouts. We create a layout using a layer that contains all nNodes nodes.\n",
    "# In this case both layers are the same size so it doesn't matter :)\n",
    "# Feel free to change the layout used here. It will be reflected in the d3 plot.\n",
    "pos = nx.layout.fruchterman_reingold_layout(g1, dim=3)\n",
    "\n",
    "# write to json file\n",
    "write_mx_to_json(filename, mx, nNodes, pos, nLayers)"
   ]
  },
  {
   "cell_type": "markdown",
   "metadata": {},
   "source": [
    "## Non-identity inter-layer connections"
   ]
  },
  {
   "cell_type": "code",
   "execution_count": 10,
   "metadata": {},
   "outputs": [
    {
     "data": {
      "image/png": "[encoded data removed]",
      "text/plain": [
       "<Figure size 432x360 with 2 Axes>"
      ]
     },
     "metadata": {
      "needs_background": "light"
     },
     "output_type": "display_data"
    }
   ],
   "source": [
    "# Set filename\n",
    "filename = \"data/mx_nonidentity.json\"\n",
    "\n",
    "# Define number of nodes (number of nodes in largest layer)\n",
    "nNodes = 10\n",
    "\n",
    "# Define number of levels\n",
    "nLayers = 4\n",
    "\n",
    "# Use multinetx to generate graphs each on nNodes nodes\n",
    "graph_layers = [mx.generators.erdos_renyi_graph(nNodes,0.5,seed=np.random.randint(1,300)) for i in np.arange(nLayers)]\n",
    "\n",
    "\n",
    "# Define adjacency between layers. Now we randomly connect nodes in separate layers.\n",
    "adj_block = mx.lil_matrix(np.zeros((nNodes*nLayers,nNodes*nLayers)))\n",
    "\n",
    "for i in np.arange(nLayers-1):\n",
    "    for l in np.arange(i+1,nLayers):\n",
    "        adj_block[i*nNodes:(i+1)*nNodes, (l)*nNodes:(l+1)*nNodes] = np.random.choice([0,1],size=(nNodes,nNodes),replace=True,p=[0.9,0.1])   # L_1*\n",
    "\n",
    "adj_block += adj_block.T\n",
    "\n",
    "# Create multilayer graph\n",
    "mg = mx.MultilayerGraph(list_of_layers=graph_layers,\n",
    "                        inter_adjacency_matrix=adj_block)\n",
    "\n",
    "# Set edge weights\n",
    "mg.set_edges_weights(intra_layer_edges_weight=2,\n",
    "                     inter_layer_edges_weight=1)\n",
    "\n",
    "## Plot the supra-adjacency matrix\n",
    "fig = plt.figure(figsize=(6,5))\n",
    "sns.heatmap(mx.adjacency_matrix(mg,weight='weight').todense())\n",
    "plt.title('supra adjacency matrix');\n",
    "\n"
   ]
  },
  {
   "cell_type": "code",
   "execution_count": 11,
   "metadata": {},
   "outputs": [
    {
     "name": "stdout",
     "output_type": "stream",
     "text": [
      "done writing mx to data/mx_nonidentity.json\n"
     ]
    }
   ],
   "source": [
    "# Write to json file\n",
    "\n",
    "# We'll use networkx positioning to get nice layouts. We create a layout using a layer that contains all nNodes nodes.\n",
    "# In this case both layers are the same size so it doesn't matter :)\n",
    "# Feel free to change the layout used here. It will be reflected in the d3 plot.\n",
    "pos = nx.layout.fruchterman_reingold_layout(g1, dim=3)\n",
    "\n",
    "# write to json file\n",
    "write_mx_to_json(filename, mx, nNodes, pos, nLayers)"
   ]
  },
  {
   "cell_type": "markdown",
   "metadata": {},
   "source": [
    "## Case where nodes are not in every layer"
   ]
  },
  {
   "cell_type": "code",
   "execution_count": 12,
   "metadata": {},
   "outputs": [
    {
     "data": {
      "image/png": "[encoded data removed]",
      "text/plain": [
       "<Figure size 432x360 with 2 Axes>"
      ]
     },
     "metadata": {
      "needs_background": "light"
     },
     "output_type": "display_data"
    }
   ],
   "source": [
    "# When we do not have all nNodes in each layer, we will proceed as before but then delete nodes towards the end\n",
    "\n",
    "# Set filename\n",
    "filename = \"data/mx_missingnodes.json\"\n",
    "\n",
    "# Define number of nodes (number of nodes in largest layer)\n",
    "nNodes = 10\n",
    "\n",
    "# Define number of levels\n",
    "nLayers = 3\n",
    "\n",
    "# Set which nodes should not exist in the final graph\n",
    "nodes_to_remove = [11, 17, 21, 25, 28]\n",
    "\n",
    "# Use multinetx to generate two graphs each on nNodes nodes\n",
    "g1 = mx.generators.erdos_renyi_graph(nNodes,0.5,seed=102)\n",
    "g2 = mx.generators.erdos_renyi_graph(nNodes,0.5,seed=54)\n",
    "g3 = mx.generators.erdos_renyi_graph(nNodes,0.5,seed=194)\n",
    "\n",
    "\n",
    "# Define adjacency between layers. Here we only assign nodes to themselves in each layer.\n",
    "adj_block = mx.lil_matrix(np.zeros((nNodes*nLayers,nNodes*nLayers)))\n",
    "\n",
    "for i in np.arange(nLayers-1):\n",
    "    for l in np.arange(i+1,nLayers):\n",
    "        adj_block[i*nNodes:(i+1)*nNodes, (l)*nNodes:(l+1)*nNodes] = np.identity(nNodes)   \n",
    "\n",
    "adj_block += adj_block.T\n",
    "\n",
    "# Create multilayer graph\n",
    "mg = mx.MultilayerGraph(list_of_layers=[g1,g2,g3],\n",
    "                        inter_adjacency_matrix=adj_block)\n",
    "\n",
    "# Set edge weights\n",
    "mg.set_edges_weights(intra_layer_edges_weight=2,\n",
    "                     inter_layer_edges_weight=1)\n",
    "\n",
    "## Plot the supra-adjacency matrix\n",
    "fig = plt.figure(figsize=(6,5))\n",
    "sns.heatmap(mx.adjacency_matrix(mg,weight='weight').todense())\n",
    "plt.title('supra adjacency matrix (before removing nodes)');\n",
    "\n"
   ]
  },
  {
   "cell_type": "code",
   "execution_count": 13,
   "metadata": {},
   "outputs": [
    {
     "name": "stdout",
     "output_type": "stream",
     "text": [
      "done writing mx to data/mx_missingnodes.json\n"
     ]
    }
   ],
   "source": [
    "# Since nodes don't exist in every layer, it might be easier to visualize with a circular layout...\n",
    "pos = nx.circular_layout(g1)\n",
    "\n",
    "# Write to json -- make sure to add nodes_to_remove\n",
    "write_mx_to_json(filename, mx, nNodes, pos, nLayers, nodes_to_remove)"
   ]
  },
  {
   "cell_type": "code",
   "execution_count": null,
   "metadata": {},
   "outputs": [],
   "source": []
  }
 ],
 "metadata": {
  "kernelspec": {
   "display_name": "Python 3",
   "language": "python",
   "name": "python3"
  },
  "language_info": {
   "codemirror_mode": {
    "name": "ipython",
    "version": 3
   },
   "file_extension": ".py",
   "mimetype": "text/x-python",
   "name": "python",
   "nbconvert_exporter": "python",
   "pygments_lexer": "ipython3",
   "version": "3.7.3"
  }
 },
 "nbformat": 4,
 "nbformat_minor": 2
}
